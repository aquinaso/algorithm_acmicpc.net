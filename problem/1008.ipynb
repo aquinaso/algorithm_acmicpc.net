{
 "cells": [
  {
   "attachments": {},
   "cell_type": "markdown",
   "metadata": {},
   "source": [
    "https://www.acmicpc.net/problem/1008"
   ]
  },
  {
   "cell_type": "code",
   "execution_count": 1,
   "metadata": {},
   "outputs": [
    {
     "name": "stdout",
     "output_type": "stream",
     "text": [
      "5.0\n"
     ]
    }
   ],
   "source": [
    "print((lambda x: x[0]/x[1])(list(map(int, input().split()))))"
   ]
  },
  {
   "cell_type": "code",
   "execution_count": 10,
   "metadata": {},
   "outputs": [
    {
     "name": "stdout",
     "output_type": "stream",
     "text": [
      " 3.3333333333333335\n"
     ]
    }
   ],
   "source": [
    "print(f\"{(lambda x: x[0]/x[1])(list(map(int, input().split()))): .16f}\")\n",
    "# 소숫점 16번째미만으로 가면 값이 틀어지는 이유:\n",
    "# 참고 : https://docs.python.org/ko/3/tutorial/floatingpoint.html#floating-point-arithmetic-issues-and-limitations\n",
    "# 참고 : https://blockdmask.tistory.com/534\n",
    "# 참고 : https://docs.python.org/ko/3/reference/expressions.html?highlight=lambda%20%ED%91%9C%ED%98%84%EC%8B%9D#lambda\n",
    "\n",
    "# '근사치'를 구하는 것이 가중치를 구하는 데 문제가 있을까?\n",
    "# 정답"
   ]
  }
 ],
 "metadata": {
  "kernelspec": {
   "display_name": "Python 3",
   "language": "python",
   "name": "python3"
  },
  "language_info": {
   "codemirror_mode": {
    "name": "ipython",
    "version": 3
   },
   "file_extension": ".py",
   "mimetype": "text/x-python",
   "name": "python",
   "nbconvert_exporter": "python",
   "pygments_lexer": "ipython3",
   "version": "3.11.1"
  },
  "orig_nbformat": 4
 },
 "nbformat": 4,
 "nbformat_minor": 2
}
